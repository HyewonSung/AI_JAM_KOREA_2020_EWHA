{
 "cells": [
  {
   "cell_type": "code",
   "execution_count": 12,
   "metadata": {},
   "outputs": [],
   "source": [
    "import pandas as pd\n",
    "\n",
    "%matplotlib inline   \n",
    "import matplotlib.pyplot as plt \n",
    "import seaborn as sns  "
   ]
  },
  {
   "cell_type": "code",
   "execution_count": 19,
   "metadata": {},
   "outputs": [],
   "source": [
    "data = pd.read_excel('C:\\\\Users\\\\User\\\\Desktop\\\\혜원\\\\코알라유니브\\\\해커톤\\\\media_effect2.xlsx')"
   ]
  },
  {
   "cell_type": "code",
   "execution_count": 20,
   "metadata": {},
   "outputs": [
    {
     "data": {
      "text/html": [
       "<div>\n",
       "<style scoped>\n",
       "    .dataframe tbody tr th:only-of-type {\n",
       "        vertical-align: middle;\n",
       "    }\n",
       "\n",
       "    .dataframe tbody tr th {\n",
       "        vertical-align: top;\n",
       "    }\n",
       "\n",
       "    .dataframe thead th {\n",
       "        text-align: right;\n",
       "    }\n",
       "</style>\n",
       "<table border=\"1\" class=\"dataframe\">\n",
       "  <thead>\n",
       "    <tr style=\"text-align: right;\">\n",
       "      <th></th>\n",
       "      <th>title</th>\n",
       "      <th>consent</th>\n",
       "      <th>top_5_token</th>\n",
       "      <th>articles</th>\n",
       "    </tr>\n",
       "  </thead>\n",
       "  <tbody>\n",
       "    <tr>\n",
       "      <th>0</th>\n",
       "      <td>[청원] 헌법의 평등권의 원칙에 위배되는 여성폭력방지법의 폐기를 청원합니다.</td>\n",
       "      <td>155</td>\n",
       "      <td>['법', '피해자', '범죄', '규정', '보호']</td>\n",
       "      <td>17221</td>\n",
       "    </tr>\n",
       "    <tr>\n",
       "      <th>1</th>\n",
       "      <td>저희 아파트 경비아저씨의 억울함을 풀어주세요...</td>\n",
       "      <td>446434</td>\n",
       "      <td>['아저씨', '아파트', '주민', '분', '입']</td>\n",
       "      <td>105</td>\n",
       "    </tr>\n",
       "    <tr>\n",
       "      <th>2</th>\n",
       "      <td>울산 초등학교 1학년 아이에게 팬티빨기 숙제내고 학생 사진에 '섹시팬티', '공주님...</td>\n",
       "      <td>225764</td>\n",
       "      <td>['아이', '교사', '팬티', '씨', '사진']</td>\n",
       "      <td>264</td>\n",
       "    </tr>\n",
       "    <tr>\n",
       "      <th>3</th>\n",
       "      <td>등교 개학 시기를 미루어주시기 바랍니다.</td>\n",
       "      <td>255333</td>\n",
       "      <td>['개학', '등교', '확', '진자', '코로나']</td>\n",
       "      <td>11788</td>\n",
       "    </tr>\n",
       "    <tr>\n",
       "      <th>4</th>\n",
       "      <td>방송통신위원회는 방송의 공적 책임 방기하고  언론이기를 포기한 채널A와 TV조선의 ...</td>\n",
       "      <td>273513</td>\n",
       "      <td>['채널', '승인', '방송', '재', '방송통신']</td>\n",
       "      <td>98</td>\n",
       "    </tr>\n",
       "    <tr>\n",
       "      <th>...</th>\n",
       "      <td>...</td>\n",
       "      <td>...</td>\n",
       "      <td>...</td>\n",
       "      <td>...</td>\n",
       "    </tr>\n",
       "    <tr>\n",
       "      <th>396</th>\n",
       "      <td>대한민국 특성화고생들에게 제발 희망을 주십시요.</td>\n",
       "      <td>60</td>\n",
       "      <td>['특성화고', '취업', '정부', '정책', '율']</td>\n",
       "      <td>3</td>\n",
       "    </tr>\n",
       "    <tr>\n",
       "      <th>397</th>\n",
       "      <td>건설현장을 죽음의 쓰나미로 만드는 타워크레인 악법</td>\n",
       "      <td>1214</td>\n",
       "      <td>['사고', '검사', '타워', '국토교통부', '크레인']</td>\n",
       "      <td>1221</td>\n",
       "    </tr>\n",
       "    <tr>\n",
       "      <th>398</th>\n",
       "      <td>오직 치매에만 신경 쓰고 근무할 수 있도록 해 주십시요</td>\n",
       "      <td>1430</td>\n",
       "      <td>['치매', '센터', '안심', '시', '채용']</td>\n",
       "      <td>1192</td>\n",
       "    </tr>\n",
       "    <tr>\n",
       "      <th>399</th>\n",
       "      <td>■김보름 폭로가 \"빙상연맹\"적폐잔당의 물타기인지 조사해주세요■</td>\n",
       "      <td>142</td>\n",
       "      <td>['운동', '빙상', '연맹', '전명규', '적폐']</td>\n",
       "      <td>33</td>\n",
       "    </tr>\n",
       "    <tr>\n",
       "      <th>400</th>\n",
       "      <td>뉴스에서 나온 care라는 동물 단체를 처벌해주세요!</td>\n",
       "      <td>48</td>\n",
       "      <td>['강아지', '단체', '마리', '생명', '안락사']</td>\n",
       "      <td>135</td>\n",
       "    </tr>\n",
       "  </tbody>\n",
       "</table>\n",
       "<p>401 rows × 4 columns</p>\n",
       "</div>"
      ],
      "text/plain": [
       "                                                 title  consent  \\\n",
       "0           [청원] 헌법의 평등권의 원칙에 위배되는 여성폭력방지법의 폐기를 청원합니다.      155   \n",
       "1                          저희 아파트 경비아저씨의 억울함을 풀어주세요...   446434   \n",
       "2    울산 초등학교 1학년 아이에게 팬티빨기 숙제내고 학생 사진에 '섹시팬티', '공주님...   225764   \n",
       "3                               등교 개학 시기를 미루어주시기 바랍니다.   255333   \n",
       "4    방송통신위원회는 방송의 공적 책임 방기하고  언론이기를 포기한 채널A와 TV조선의 ...   273513   \n",
       "..                                                 ...      ...   \n",
       "396                         대한민국 특성화고생들에게 제발 희망을 주십시요.       60   \n",
       "397                        건설현장을 죽음의 쓰나미로 만드는 타워크레인 악법     1214   \n",
       "398                     오직 치매에만 신경 쓰고 근무할 수 있도록 해 주십시요     1430   \n",
       "399                 ■김보름 폭로가 \"빙상연맹\"적폐잔당의 물타기인지 조사해주세요■      142   \n",
       "400                      뉴스에서 나온 care라는 동물 단체를 처벌해주세요!       48   \n",
       "\n",
       "                             top_5_token  articles  \n",
       "0         ['법', '피해자', '범죄', '규정', '보호']     17221  \n",
       "1         ['아저씨', '아파트', '주민', '분', '입']       105  \n",
       "2          ['아이', '교사', '팬티', '씨', '사진']       264  \n",
       "3         ['개학', '등교', '확', '진자', '코로나']     11788  \n",
       "4        ['채널', '승인', '방송', '재', '방송통신']        98  \n",
       "..                                   ...       ...  \n",
       "396      ['특성화고', '취업', '정부', '정책', '율']         3  \n",
       "397   ['사고', '검사', '타워', '국토교통부', '크레인']      1221  \n",
       "398        ['치매', '센터', '안심', '시', '채용']      1192  \n",
       "399      ['운동', '빙상', '연맹', '전명규', '적폐']        33  \n",
       "400     ['강아지', '단체', '마리', '생명', '안락사']       135  \n",
       "\n",
       "[401 rows x 4 columns]"
      ]
     },
     "execution_count": 20,
     "metadata": {},
     "output_type": "execute_result"
    }
   ],
   "source": [
    "data"
   ]
  },
  {
   "cell_type": "code",
   "execution_count": 21,
   "metadata": {},
   "outputs": [
    {
     "data": {
      "text/html": [
       "<div>\n",
       "<style scoped>\n",
       "    .dataframe tbody tr th:only-of-type {\n",
       "        vertical-align: middle;\n",
       "    }\n",
       "\n",
       "    .dataframe tbody tr th {\n",
       "        vertical-align: top;\n",
       "    }\n",
       "\n",
       "    .dataframe thead th {\n",
       "        text-align: right;\n",
       "    }\n",
       "</style>\n",
       "<table border=\"1\" class=\"dataframe\">\n",
       "  <thead>\n",
       "    <tr style=\"text-align: right;\">\n",
       "      <th></th>\n",
       "      <th>title</th>\n",
       "      <th>articles</th>\n",
       "    </tr>\n",
       "  </thead>\n",
       "  <tbody>\n",
       "    <tr>\n",
       "      <th>0</th>\n",
       "      <td>[청원] 헌법의 평등권의 원칙에 위배되는 여성폭력방지법의 폐기를 청원합니다.</td>\n",
       "      <td>17221</td>\n",
       "    </tr>\n",
       "    <tr>\n",
       "      <th>1</th>\n",
       "      <td>저희 아파트 경비아저씨의 억울함을 풀어주세요...</td>\n",
       "      <td>105</td>\n",
       "    </tr>\n",
       "    <tr>\n",
       "      <th>2</th>\n",
       "      <td>울산 초등학교 1학년 아이에게 팬티빨기 숙제내고 학생 사진에 '섹시팬티', '공주님...</td>\n",
       "      <td>264</td>\n",
       "    </tr>\n",
       "    <tr>\n",
       "      <th>3</th>\n",
       "      <td>등교 개학 시기를 미루어주시기 바랍니다.</td>\n",
       "      <td>11788</td>\n",
       "    </tr>\n",
       "    <tr>\n",
       "      <th>4</th>\n",
       "      <td>방송통신위원회는 방송의 공적 책임 방기하고  언론이기를 포기한 채널A와 TV조선의 ...</td>\n",
       "      <td>98</td>\n",
       "    </tr>\n",
       "    <tr>\n",
       "      <th>...</th>\n",
       "      <td>...</td>\n",
       "      <td>...</td>\n",
       "    </tr>\n",
       "    <tr>\n",
       "      <th>396</th>\n",
       "      <td>대한민국 특성화고생들에게 제발 희망을 주십시요.</td>\n",
       "      <td>3</td>\n",
       "    </tr>\n",
       "    <tr>\n",
       "      <th>397</th>\n",
       "      <td>건설현장을 죽음의 쓰나미로 만드는 타워크레인 악법</td>\n",
       "      <td>1221</td>\n",
       "    </tr>\n",
       "    <tr>\n",
       "      <th>398</th>\n",
       "      <td>오직 치매에만 신경 쓰고 근무할 수 있도록 해 주십시요</td>\n",
       "      <td>1192</td>\n",
       "    </tr>\n",
       "    <tr>\n",
       "      <th>399</th>\n",
       "      <td>■김보름 폭로가 \"빙상연맹\"적폐잔당의 물타기인지 조사해주세요■</td>\n",
       "      <td>33</td>\n",
       "    </tr>\n",
       "    <tr>\n",
       "      <th>400</th>\n",
       "      <td>뉴스에서 나온 care라는 동물 단체를 처벌해주세요!</td>\n",
       "      <td>135</td>\n",
       "    </tr>\n",
       "  </tbody>\n",
       "</table>\n",
       "<p>401 rows × 2 columns</p>\n",
       "</div>"
      ],
      "text/plain": [
       "                                                 title  articles\n",
       "0           [청원] 헌법의 평등권의 원칙에 위배되는 여성폭력방지법의 폐기를 청원합니다.     17221\n",
       "1                          저희 아파트 경비아저씨의 억울함을 풀어주세요...       105\n",
       "2    울산 초등학교 1학년 아이에게 팬티빨기 숙제내고 학생 사진에 '섹시팬티', '공주님...       264\n",
       "3                               등교 개학 시기를 미루어주시기 바랍니다.     11788\n",
       "4    방송통신위원회는 방송의 공적 책임 방기하고  언론이기를 포기한 채널A와 TV조선의 ...        98\n",
       "..                                                 ...       ...\n",
       "396                         대한민국 특성화고생들에게 제발 희망을 주십시요.         3\n",
       "397                        건설현장을 죽음의 쓰나미로 만드는 타워크레인 악법      1221\n",
       "398                     오직 치매에만 신경 쓰고 근무할 수 있도록 해 주십시요      1192\n",
       "399                 ■김보름 폭로가 \"빙상연맹\"적폐잔당의 물타기인지 조사해주세요■        33\n",
       "400                      뉴스에서 나온 care라는 동물 단체를 처벌해주세요!       135\n",
       "\n",
       "[401 rows x 2 columns]"
      ]
     },
     "execution_count": 21,
     "metadata": {},
     "output_type": "execute_result"
    }
   ],
   "source": [
    "data[['title','articles']]"
   ]
  },
  {
   "cell_type": "code",
   "execution_count": 22,
   "metadata": {},
   "outputs": [
    {
     "data": {
      "text/plain": [
       "<matplotlib.axes._subplots.AxesSubplot at 0x26331410488>"
      ]
     },
     "execution_count": 22,
     "metadata": {},
     "output_type": "execute_result"
    },
    {
     "data": {
      "image/png": "[encoded data removed]",
      "text/plain": [
       "<Figure size 1080x1080 with 2 Axes>"
      ]
     },
     "metadata": {
      "needs_background": "light"
     },
     "output_type": "display_data"
    }
   ],
   "source": [
    "plt.figure(figsize=(15,15))\n",
    "sns.heatmap(data = data.corr(), annot=True, \n",
    "fmt = '.2f', linewidths=.5, cmap='Blues')"
   ]
  },
  {
   "cell_type": "code",
   "execution_count": 23,
   "metadata": {},
   "outputs": [
    {
     "data": {
      "text/html": [
       "<div>\n",
       "<style scoped>\n",
       "    .dataframe tbody tr th:only-of-type {\n",
       "        vertical-align: middle;\n",
       "    }\n",
       "\n",
       "    .dataframe tbody tr th {\n",
       "        vertical-align: top;\n",
       "    }\n",
       "\n",
       "    .dataframe thead th {\n",
       "        text-align: right;\n",
       "    }\n",
       "</style>\n",
       "<table border=\"1\" class=\"dataframe\">\n",
       "  <thead>\n",
       "    <tr style=\"text-align: right;\">\n",
       "      <th></th>\n",
       "      <th>consent</th>\n",
       "      <th>articles</th>\n",
       "    </tr>\n",
       "  </thead>\n",
       "  <tbody>\n",
       "    <tr>\n",
       "      <th>consent</th>\n",
       "      <td>1.000000</td>\n",
       "      <td>0.253621</td>\n",
       "    </tr>\n",
       "    <tr>\n",
       "      <th>articles</th>\n",
       "      <td>0.253621</td>\n",
       "      <td>1.000000</td>\n",
       "    </tr>\n",
       "  </tbody>\n",
       "</table>\n",
       "</div>"
      ],
      "text/plain": [
       "           consent  articles\n",
       "consent   1.000000  0.253621\n",
       "articles  0.253621  1.000000"
      ]
     },
     "execution_count": 23,
     "metadata": {},
     "output_type": "execute_result"
    }
   ],
   "source": [
    "data.corr()"
   ]
  },
  {
   "cell_type": "code",
   "execution_count": null,
   "metadata": {},
   "outputs": [],
   "source": []
  }
 ],
 "metadata": {
  "kernelspec": {
   "display_name": "Python 3",
   "language": "python",
   "name": "python3"
  },
  "language_info": {
   "codemirror_mode": {
    "name": "ipython",
    "version": 3
   },
   "file_extension": ".py",
   "mimetype": "text/x-python",
   "name": "python",
   "nbconvert_exporter": "python",
   "pygments_lexer": "ipython3",
   "version": "3.7.6"
  }
 },
 "nbformat": 4,
 "nbformat_minor": 4
}
