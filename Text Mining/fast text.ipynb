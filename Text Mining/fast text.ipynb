{
 "cells": [
  {
   "cell_type": "markdown",
   "metadata": {},
   "source": [
    "# <Fast text를 이용한 유사도 계산>"
   ]
  },
  {
   "cell_type": "code",
   "execution_count": 1,
   "metadata": {},
   "outputs": [],
   "source": [
    "import gzip"
   ]
  },
  {
   "cell_type": "markdown",
   "metadata": {},
   "source": [
    "## - 필요한 모듈 import"
   ]
  },
  {
   "cell_type": "code",
   "execution_count": 2,
   "metadata": {},
   "outputs": [],
   "source": [
    "from gensim import models\n",
    "ko_model = models.fasttext.load_facebook_model('cc.ko.300.bin.gz')\n",
    "from sklearn.decomposition import PCA\n",
    "import matplotlib as mpl\n",
    "import matplotlib.pyplot as plt\n",
    "import pandas as pd\n",
    "from konlpy.tag import Okt\n",
    "import nltk"
   ]
  },
  {
   "cell_type": "markdown",
   "metadata": {},
   "source": [
    "## - 새로운 글 & 기존 글(상위 5개) 토큰 사이 유사도 검사 \n",
    "### 1. 데이터 불러오기"
   ]
  },
  {
   "cell_type": "code",
   "execution_count": 3,
   "metadata": {},
   "outputs": [],
   "source": [
    "data = pd.read_excel('last_petition_datacrawling.xlsx')[['제목', '청원수', '본문']]\n",
    "okt = Okt()\n",
    "\n",
    "delete_word = ['현재', '지금', '상반기', '하반기', '이', '그', '그녀', '저', '것', '들', '제', '저희', '너', '되', '물', '수', '않', '없', '아니',\n",
    "               '때문', '곳', '등', '들', '중', '좀', '잘', '더', '더욱', '경우', '후', '때', '있', '하', '생각', '청원', '국민청원']\n",
    "\n",
    "final_token = []\n",
    "new_final_token = []\n",
    "df = pd.DataFrame(columns=['청원글', '청원수', '상위토큰', '유사도'])"
   ]
  },
  {
   "cell_type": "markdown",
   "metadata": {},
   "source": [
    "### 2. 인풋 받기"
   ]
  },
  {
   "cell_type": "code",
   "execution_count": 4,
   "metadata": {
    "scrolled": false
   },
   "outputs": [
    {
     "name": "stdout",
     "output_type": "stream",
     "text": [
      "새로 청원할 글을 입력하세요: 인천국제공항공사는 불공정한 특혜채용을 멈춰주세요. 최근 인천국제공항공사 청원경찰 채용과 관련하여 많은 취준생들과 대학생, 청년들이 분노하며 절망하고 있습니다. 일부 언론이나 정치인들의 주장과 달리 청년들은 결코 비정규직의 정규직화에 분노하는 것이 아닙니다. 많은 이들이 분노하는 진짜 이유는 보안검색 요원들을 정규직화 시키는 과정에서, 1100여명에 달하는 인원이 간단한 인성검사와 면접만을 통해 인천국제공항공사의 정직원이 된다는 사실을 알게 되었기 때문입니다. 또한, 이번에 정규직으로 전환되는 사람의 인원이 기존에 근무하는 사람보다 많다고 합니다.  인국공은 대학생들이 가장 가고 싶어하는 공기업 1순위이고, 인국공에 들어가기 위해 수많은 노력과 시간을 쏟을 정도로 들어가기 쉽지 않은 꿈의 직장이었습니다. 사무 직렬의 경우 토익 만점에 가까워야 고작 서류를 통과할 수 있는 회사에서, 비슷한 스펙을 갖기는 커녕 시험도 없이 그냥 다 전환이 공평한 것인가 의문이 듭니다. 아르바이트 하러 왔다가 최고 인국공에 취직하다니.... 이건 평등이 아닙니다. 역차별이고 청년들에게 더 큰 불행입니다. 무분별한 비정규직의 정규화 당장 그만해야한다고 생각합니다. 이러한 불평등한 사태에 분노를 안할수 없습니다! 비정규직을 정규직으로 전환하는 것은 역차별을 초래하니, 정부와 인천국제공항공사는 불공정한 특혜채용을 제발 멈춰주세요.   무분별한 비정규직의 정규화 당장 그만해야한다고 생각합니다.\n"
     ]
    }
   ],
   "source": [
    "# 인풋\n",
    "new_petition = okt.nouns(input(\"새로 청원할 글을 입력하세요: \"))"
   ]
  },
  {
   "cell_type": "markdown",
   "metadata": {},
   "source": [
    "### 3. 새로운 청원글 토큰화"
   ]
  },
  {
   "cell_type": "code",
   "execution_count": 5,
   "metadata": {},
   "outputs": [
    {
     "name": "stdout",
     "output_type": "stream",
     "text": [
      "['인천국제공항공사', '비정규직', '정규직', '채용', '청년', '것', '전환', '인국공', '불공정', '특혜', '대학생', '인원', '사람', '역차별', '무분별']\n",
      "['인천국제공항공사', '비정규직', '정규직', '채용', '청년', '전환', '인국공', '불공정', '특혜', '대학생', '인원', '사람', '역차별', '무분별']\n"
     ]
    }
   ],
   "source": [
    "# 새로운 청원글 토큰화\n",
    "new_text = nltk.Text(new_petition)\n",
    "new_selected_words = [f[0] for f in new_text.vocab().most_common(15)]\n",
    "print(new_selected_words)\n",
    "\n",
    "new_final_token = []\n",
    "# 새로운 청원글 불용어 제거\n",
    "for word in new_selected_words:\n",
    "    if word not in delete_word:\n",
    "        new_final_token.append(word)\n",
    "print(new_final_token)\n",
    "\n",
    "new_final_token = new_final_token[:7]\n"
   ]
  },
  {
   "cell_type": "code",
   "execution_count": 6,
   "metadata": {
    "scrolled": true
   },
   "outputs": [
    {
     "data": {
      "text/plain": [
       "['인천국제공항공사', '비정규직', '정규직', '채용', '청년', '전환', '인국공']"
      ]
     },
     "execution_count": 6,
     "metadata": {},
     "output_type": "execute_result"
    }
   ],
   "source": [
    "new_final_token"
   ]
  },
  {
   "cell_type": "markdown",
   "metadata": {},
   "source": [
    "### 4. 기존 청원글 토큰화\n",
    "### 5. 제목이랑 본문상위토큰 합치기\n",
    "### 6. 불용어 제거하기 -> 5개 최종 토큰만 추출하여 final_token에 저장\n",
    "### 7. 새로운 글 & 기존의 청원글과 자카드 유사도 검사"
   ]
  },
  {
   "cell_type": "code",
   "execution_count": 7,
   "metadata": {
    "scrolled": false
   },
   "outputs": [],
   "source": [
    "# 3. 기존 청원글 토큰화\n",
    "\n",
    "# for i in range(10):\n",
    "for i in range(data['제목'].count()):\n",
    "    # 제목 토큰\n",
    "    title_token = okt.nouns(data['제목'][i])\n",
    "    # 콘텐트 토큰\n",
    "    content_token = okt.nouns(data['본문'][i])\n",
    "    text = nltk.Text(content_token)\n",
    "    # 출현 빈도가 높은 본문 상위 토큰 15개\n",
    "    selected_words = [f[0] for f in text.vocab().most_common(15)]\n",
    "    \n",
    "# 4. 제목이랑 본문상위토큰 15개 합치기\n",
    "    hap_token = title_token + selected_words\n",
    "#     print(\"제목 토큰 & 본문에서 가장 많이 나온 명사 15개: \\n\", hap_token)\n",
    "    \n",
    "# 5. 불용어 제거하기\n",
    "    for word in hap_token:\n",
    "        if word not in delete_word:\n",
    "            final_token.append(word)\n",
    "            \n",
    "# 5-2. 불용어 제거한 후, 5개 토큰만 추출\n",
    "    final_token = final_token[:7]\n",
    "#     print(\"불용어 제거한 최종 토큰: \\n\", final_token)\n",
    "    \n",
    "\n",
    "#     print(\"-\" * 50)\n",
    "    \n",
    "# 6. 새로운 글 & 기존의 청원글과 자카드 유사도 검사\n",
    "    def Jaccard_similarity(existing, new):\n",
    "        # 중복되는 단어 제거\n",
    "        existing = set(existing)\n",
    "        new = set(new)\n",
    "        return len(existing & new) / len(existing | new)\n",
    "\n",
    "    # 기존의 모든 청원글과 새로운 청원글의 자카드 유사도 출력\n",
    "#     print('\"' + data['제목'][i] + '\"' + \" 청원글과의 유사도: \", Jaccard_similarity(final_token, new_final_token))\n",
    "#     print(\"-\" * 50)\n",
    "\n",
    "    df = df.append({'청원글':data['제목'][i], '청원수': data['청원수'][i], \n",
    "                    '상위토큰': final_token, '유사도':Jaccard_similarity(final_token, new_final_token)}, \n",
    "                   ignore_index=True)\n",
    "    final_token = []"
   ]
  },
  {
   "cell_type": "markdown",
   "metadata": {},
   "source": [
    "### 8. sorting된 순서로 자카드 유사도 가장 높은 상위 5개 글 제시 "
   ]
  },
  {
   "cell_type": "code",
   "execution_count": 8,
   "metadata": {
    "scrolled": false
   },
   "outputs": [
    {
     "name": "stdout",
     "output_type": "stream",
     "text": [
      "자카드 유사도가 가장 높은 상위 5개 청원글: \n",
      "                                           청원글   청원수  \\\n",
      "29275  인천국제공항공사 비정규직의 무조건적인 정규직 전환. 이게 평등입니까?  9455   \n",
      "29276                        정규직 전환 진실을 묻습니다.   939   \n",
      "5573               비정규직 정규직 전환 제도 누구를위한 제도인가?   336   \n",
      "26212                               정규직 전환 반대     3   \n",
      "21011      비정규직 전원이 정규직으로 전환이 되었다는 기사에 반박합니다.    13   \n",
      "\n",
      "                                        상위토큰       유사도  \n",
      "29275  [인천국제공항공사, 비정규직, 무조건, 정규직, 전환, 평등, 입]  0.400000  \n",
      "29276       [정규직, 전환, 진실, 정규직, 전환, 보안, 비정규직]  0.333333  \n",
      "5573          [비정규직, 정규직, 전환, 제도, 누구, 위, 제도]  0.300000  \n",
      "26212        [정규직, 전환, 반대, 비정규직, 정규직, 월급, 삶]  0.300000  \n",
      "21011       [비정규직, 전원, 정규직, 전환, 기사, 반박, 정규직]  0.300000  \n"
     ]
    }
   ],
   "source": [
    "sorted_df = df.sort_values(by = ['유사도'], axis = 0, ascending=False, inplace=False)  # 유사도 기준 내림차순으로 정렬\n",
    "sorted_petition = sorted_df.iloc[:5]  # 상위 5개 글 추출 \n",
    "\n",
    "# 자카드 유사도가 가장 높은 상위 5개 청원글 출력\n",
    "print(\"자카드 유사도가 가장 높은 상위 5개 청원글: \\n\", sorted_petition)  # 제목과 청원수, 상위토큰, 유사도 나옴."
   ]
  },
  {
   "cell_type": "markdown",
   "metadata": {},
   "source": [
    "### 9. 유사도 그래프 "
   ]
  },
  {
   "cell_type": "code",
   "execution_count": 9,
   "metadata": {},
   "outputs": [
    {
     "data": {
      "image/png": "[encoded data removed]",
      "text/plain": [
       "<Figure size 1008x720 with 1 Axes>"
      ]
     },
     "metadata": {
      "needs_background": "light"
     },
     "output_type": "display_data"
    }
   ],
   "source": [
    "words = []\n",
    "\n",
    "# 그래프\n",
    "for i in range(5):\n",
    "    words += sorted_petition.iloc[i].iloc[2] + new_final_token # 기존 글 다섯개 토큰 + 새로운 글 다섯개 토큰\n",
    "    \n",
    "pca = PCA(n_components=2)\n",
    "xys = pca.fit_transform([ko_model.wv.word_vec(w) for w in words])\n",
    "xs = xys[:,0]\n",
    "ys = xys[:,1]\n",
    "\n",
    "mpl.rcParams['axes.unicode_minus'] = False # 마이너스 부호 깨짐 방지\n",
    "plt.rc('font', family = 'NanumGothic')   #나눔고딕을 기본 글꼴로 설정\n",
    "plt.figure(figsize=(14, 10), )\n",
    "plt.scatter(xs, ys, marker='o')\n",
    "for i, v in enumerate(words):\n",
    "    plt.annotate(v, xy=(xs[i], ys[i]))"
   ]
  },
  {
   "cell_type": "markdown",
   "metadata": {},
   "source": [
    "### 10. 새로운 청원글 & 기존 청원글 상위토큰(단어) 1:1 유사도 검사"
   ]
  },
  {
   "cell_type": "code",
   "execution_count": 10,
   "metadata": {
    "scrolled": false
   },
   "outputs": [],
   "source": [
    "# 새로운 청원글의 상위토큰: new_final_token\n",
    "# 기존 청원글 5개의 상위 토큰: sorted_petition['상위토큰']\n",
    "prediction = 0\n",
    "similarity_rate = 0\n",
    "similarity_rate_hap = 0"
   ]
  },
  {
   "cell_type": "code",
   "execution_count": 11,
   "metadata": {},
   "outputs": [
    {
     "name": "stdout",
     "output_type": "stream",
     "text": [
      "1.0\n",
      "1.0\n",
      "0.0759692\n",
      "0.40941018\n",
      "0.20173836\n",
      "0.33857322\n",
      "0.20713176\n",
      "0.11140557\n",
      "0.40941018\n",
      "0.20173836\n",
      "0.27567887\n",
      "0.6339157\n",
      "0.3576984\n",
      "0.36167282\n",
      "0.19376712\n",
      "0.33857322\n",
      "0.20713176\n",
      "0.10358362\n",
      "0.25542635\n",
      "0.24452081\n",
      "0.27567887\n",
      "0.16908163\n",
      "1.0\n",
      "0.32553723\n",
      "0.17278478\n"
     ]
    }
   ],
   "source": [
    "for i in range(5):   # 5개의 기존 청원글\n",
    "    for k in range(5): # 5개의 상위토큰           \n",
    "        similarity_rate = ko_model.wv.similarity(new_final_token[k], sorted_petition.iloc[i].iloc[2][k]) # 1:1 유사도\n",
    "        print(similarity_rate)"
   ]
  },
  {
   "cell_type": "markdown",
   "metadata": {},
   "source": [
    "# <유사도 기반 청원수 예측>"
   ]
  },
  {
   "cell_type": "code",
   "execution_count": 12,
   "metadata": {},
   "outputs": [
    {
     "name": "stdout",
     "output_type": "stream",
     "text": [
      "예상 청원수:  6150.186255344934\n"
     ]
    }
   ],
   "source": [
    "numerator = 0\n",
    "denominator = 0\n",
    "\n",
    "for i in range(5):   # 5개의 기존 청원글\n",
    "    for k in range(5): # 5개의 상위토큰           \n",
    "        similarity_rate = ko_model.wv.similarity(new_final_token[k], sorted_petition.iloc[i].iloc[2][k]) # 1:1 유사도\n",
    "        similarity_rate_hap += similarity_rate\n",
    "    similarity_rate_mean = similarity_rate_hap / 5   # 상위토큰 5개의 유사도 평균\n",
    "    \n",
    "    weighted_petition_number = similarity_rate_mean * sorted_petition.iloc[i].iloc[1] # 유사도*청원수\n",
    "    numerator += weighted_petition_number  # 분자(유사도*청원수 총합)\n",
    "    denominator += similarity_rate  # 분모(유사도 총합) \n",
    "    \n",
    "final_prediction = numerator/denominator\n",
    "print(\"예상 청원수: \", final_prediction)"
   ]
  },
  {
   "cell_type": "code",
   "execution_count": null,
   "metadata": {},
   "outputs": [],
   "source": []
  }
 ],
 "metadata": {
  "kernelspec": {
   "display_name": "Python 3",
   "language": "python",
   "name": "python3"
  },
  "language_info": {
   "codemirror_mode": {
    "name": "ipython",
    "version": 3
   },
   "file_extension": ".py",
   "mimetype": "text/x-python",
   "name": "python",
   "nbconvert_exporter": "python",
   "pygments_lexer": "ipython3",
   "version": "3.7.6"
  }
 },
 "nbformat": 4,
 "nbformat_minor": 4
}
