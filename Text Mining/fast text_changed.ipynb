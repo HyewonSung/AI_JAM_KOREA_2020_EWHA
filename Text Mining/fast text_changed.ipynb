{
 "cells": [
  {
   "cell_type": "markdown",
   "metadata": {},
   "source": [
    "# <Fast text를 이용한 유사도 계산>"
   ]
  },
  {
   "cell_type": "code",
   "execution_count": 1,
   "metadata": {},
   "outputs": [],
   "source": [
    "import gzip"
   ]
  },
  {
   "cell_type": "markdown",
   "metadata": {},
   "source": [
    "## - 필요한 모듈 import"
   ]
  },
  {
   "cell_type": "code",
   "execution_count": 2,
   "metadata": {},
   "outputs": [],
   "source": [
    "from gensim import models\n",
    "ko_model = models.fasttext.load_facebook_model('cc.ko.300.bin.gz')\n",
    "from sklearn.decomposition import PCA\n",
    "import matplotlib as mpl\n",
    "import matplotlib.pyplot as plt\n",
    "import pandas as pd\n",
    "from konlpy.tag import Okt\n",
    "import nltk"
   ]
  },
  {
   "cell_type": "markdown",
   "metadata": {},
   "source": [
    "## - 새로운 글 & 기존 글(상위 5개) 토큰 사이 유사도 검사 \n",
    "### 1. 데이터 불러오기"
   ]
  },
  {
   "cell_type": "code",
   "execution_count": 3,
   "metadata": {},
   "outputs": [],
   "source": [
    "data = pd.read_excel('last_petition_datacrawling.xlsx')[['제목', '청원수', '본문']]\n",
    "okt = Okt()\n",
    "\n",
    "delete_word = ['현재', '지금', '상반기', '하반기', '이', '그', '그녀', '저', '것', '들', '제', '저희', '너', '되', '물', '수', '않', '없', '아니',\n",
    "               '때문', '곳', '등', '들', '중', '좀', '잘', '더', '더욱', '을해', '자주', '경우', '전혀', '올해', '말', '다시', '대해', '후', '때', \n",
    "               '있', '하', '생각', '청원', '국민청원']\n",
    "\n",
    "final_token = []\n",
    "new_final_token = []\n",
    "df = pd.DataFrame(columns=['청원글', '청원수', '상위토큰', 'jaccard 유사도'])"
   ]
  },
  {
   "cell_type": "markdown",
   "metadata": {},
   "source": [
    "### 2. 인풋 받기"
   ]
  },
  {
   "cell_type": "code",
   "execution_count": 4,
   "metadata": {
    "scrolled": false
   },
   "outputs": [
    {
     "name": "stdout",
     "output_type": "stream",
     "text": [
      "새로 청원할 글을 입력하세요: 인천국제공항공사는 불공정한 특혜채용을 멈춰주세요. 최근 인천국제공항공사 청원경찰 채용과 관련하여 많은 취준생들과 대학생, 청년들이 분노하며 절망하고 있습니다. 일부 언론이나 정치인들의 주장과 달리 청년들은 결코 비정규직의 정규직화에 분노하는 것이 아닙니다. 많은 이들이 분노하는 진짜 이유는 보안검색 요원들을 정규직화 시키는 과정에서, 1100여명에 달하는 인원이 간단한 인성검사와 면접만을 통해 인천국제공항공사의 정직원이 된다는 사실을 알게 되었기 때문입니다. 또한, 이번에 정규직으로 전환되는 사람의 인원이 기존에 근무하는 사람보다 많다고 합니다.  인국공은 대학생들이 가장 가고 싶어하는 공기업 1순위이고, 인국공에 들어가기 위해 수많은 노력과 시간을 쏟을 정도로 들어가기 쉽지 않은 꿈의 직장이었습니다. 사무 직렬의 경우 토익 만점에 가까워야 고작 서류를 통과할 수 있는 회사에서, 비슷한 스펙을 갖기는 커녕 시험도 없이 그냥 다 전환이 공평한 것인가 의문이 듭니다. 아르바이트 하러 왔다가 최고 인국공에 취직하다니.... 이건 평등이 아닙니다. 역차별이고 청년들에게 더 큰 불행입니다. 무분별한 비정규직의 정규화 당장 그만해야한다고 생각합니다. 이러한 불평등한 사태에 분노를 안할수 없습니다! 비정규직을 정규직으로 전환하는 것은 역차별을 초래하니, 정부와 인천국제공항공사는 불공정한 특혜채용을 제발 멈춰주세요.   무분별한 비정규직의 정규화 당장 그만해야한다고 생각합니다.\n"
     ]
    }
   ],
   "source": [
    "# 인풋\n",
    "new_petition = okt.nouns(input(\"새로 청원할 글을 입력하세요: \"))"
   ]
  },
  {
   "cell_type": "markdown",
   "metadata": {},
   "source": [
    "### 3. 새로운 청원글 토큰화"
   ]
  },
  {
   "cell_type": "code",
   "execution_count": 5,
   "metadata": {},
   "outputs": [
    {
     "name": "stdout",
     "output_type": "stream",
     "text": [
      "['인천국제공항공사', '비정규직', '정규직', '채용', '청년', '것', '전환', '인국공', '불공정', '특혜', '대학생', '인원', '사람', '역차별', '무분별']\n",
      "['인천국제공항공사', '비정규직', '정규직', '채용', '청년', '전환', '인국공', '불공정', '특혜', '대학생', '인원', '사람', '역차별', '무분별']\n"
     ]
    }
   ],
   "source": [
    "# 새로운 청원글 토큰화\n",
    "new_text = nltk.Text(new_petition)\n",
    "new_selected_words = [f[0] for f in new_text.vocab().most_common(15)]\n",
    "print(new_selected_words)\n",
    "\n",
    "new_final_token = []\n",
    "# 새로운 청원글 불용어 제거\n",
    "for word in new_selected_words:\n",
    "    if word not in delete_word:\n",
    "        new_final_token.append(word)\n",
    "print(new_final_token)\n",
    "\n",
    "new_final_token = new_final_token[:7]\n"
   ]
  },
  {
   "cell_type": "code",
   "execution_count": 6,
   "metadata": {
    "scrolled": true
   },
   "outputs": [
    {
     "data": {
      "text/plain": [
       "['인천국제공항공사', '비정규직', '정규직', '채용', '청년', '전환', '인국공']"
      ]
     },
     "execution_count": 6,
     "metadata": {},
     "output_type": "execute_result"
    }
   ],
   "source": [
    "new_final_token"
   ]
  },
  {
   "cell_type": "markdown",
   "metadata": {},
   "source": [
    "### 4. 기존 청원글 토큰화\n",
    "### 5. 제목이랑 본문상위토큰 합치기\n",
    "### 6. 불용어 제거하기 -> 7개 최종 토큰만 추출하여 final_token에 저장\n",
    "### 7. 새로운 글 & 기존의 청원글과 자카드 유사도 검사"
   ]
  },
  {
   "cell_type": "code",
   "execution_count": 7,
   "metadata": {
    "scrolled": false
   },
   "outputs": [],
   "source": [
    "# 3. 기존 청원글 토큰화\n",
    "\n",
    "# for i in range(10):\n",
    "for i in range(data['제목'].count()):\n",
    "    # 제목 토큰\n",
    "    title_token = okt.nouns(data['제목'][i])\n",
    "    # 콘텐트 토큰\n",
    "    content_token = okt.nouns(data['본문'][i])\n",
    "    text = nltk.Text(content_token)\n",
    "    # 출현 빈도가 높은 본문 상위 토큰 15개\n",
    "    selected_words = [f[0] for f in text.vocab().most_common(15)]\n",
    "    \n",
    "# 4. 제목이랑 본문상위토큰 15개 합치기\n",
    "    hap_token = title_token + selected_words\n",
    "#     print(\"제목 토큰 & 본문에서 가장 많이 나온 명사 15개: \\n\", hap_token)\n",
    "    \n",
    "# 5. 불용어 제거하기\n",
    "    for word in hap_token:\n",
    "        if word not in delete_word:\n",
    "            final_token.append(word)\n",
    "            \n",
    "# 5-2. 불용어 제거한 후, 7개 토큰만 추출\n",
    "    final_token = final_token[:7]\n",
    "#     print(\"불용어 제거한 최종 토큰: \\n\", final_token)\n",
    "    \n",
    "\n",
    "#     print(\"-\" * 50)\n",
    "    \n",
    "# 6. 새로운 글 & 기존의 청원글과 자카드 유사도 검사\n",
    "    def Jaccard_similarity(existing, new):\n",
    "        # 중복되는 단어 제거\n",
    "        existing = set(existing)\n",
    "        new = set(new)\n",
    "        return len(existing & new) / len(existing | new)\n",
    "\n",
    "    # 기존의 모든 청원글과 새로운 청원글의 자카드 유사도 출력\n",
    "#     print('\"' + data['제목'][i] + '\"' + \" 청원글과의 유사도: \", Jaccard_similarity(final_token, new_final_token))\n",
    "#     print(\"-\" * 50)\n",
    "\n",
    "    df = df.append({'청원글':data['제목'][i], '청원수': data['청원수'][i], \n",
    "                    '상위토큰': final_token, 'jaccard 유사도':Jaccard_similarity(final_token, new_final_token)}, \n",
    "                   ignore_index=True)\n",
    "    final_token = []"
   ]
  },
  {
   "cell_type": "markdown",
   "metadata": {},
   "source": [
    "### 8. sorting된 순서로 자카드 유사도 가장 높은 상위 5개 글 제시 "
   ]
  },
  {
   "cell_type": "code",
   "execution_count": 103,
   "metadata": {
    "scrolled": false
   },
   "outputs": [
    {
     "name": "stdout",
     "output_type": "stream",
     "text": [
      "자카드 유사도가 가장 높은 상위 5개 청원글: \n",
      "                                           청원글   청원수  \\\n",
      "29275  인천국제공항공사 비정규직의 무조건적인 정규직 전환. 이게 평등입니까?  9455   \n",
      "29276                        정규직 전환 진실을 묻습니다.   939   \n",
      "5573               비정규직 정규직 전환 제도 누구를위한 제도인가?   336   \n",
      "26212                               정규직 전환 반대     3   \n",
      "23601                  인천공항 비정규직에서 정규직전환 뉴스보도    11   \n",
      "\n",
      "                                        상위토큰  jaccard 유사도  fasttext 유사도  \n",
      "29275  [인천국제공항공사, 비정규직, 무조건, 정규직, 전환, 평등, 입]     0.400000           NaN  \n",
      "29276       [정규직, 전환, 진실, 정규직, 전환, 보안, 비정규직]     0.333333           NaN  \n",
      "5573          [비정규직, 정규직, 전환, 제도, 누구, 위, 제도]     0.300000           NaN  \n",
      "26212        [정규직, 전환, 반대, 비정규직, 정규직, 월급, 삶]     0.300000           NaN  \n",
      "23601    [인천공항, 비정규직, 정규직, 전환, 뉴스, 보도, 인천공항]     0.300000           NaN  \n"
     ]
    }
   ],
   "source": [
    "sorted_df = df.sort_values(by = ['jaccard 유사도'], axis = 0, ascending=False, inplace=False)  # 유사도 기준 내림차순으로 정렬\n",
    "sorted_petition = sorted_df.iloc[:5]  # 상위 5개 글 추출 \n",
    "\n",
    "# 자카드 유사도가 가장 높은 상위 5개 청원글 출력\n",
    "print(\"자카드 유사도가 가장 높은 상위 5개 청원글: \\n\", sorted_petition)  # 제목과 청원수, 상위토큰, 유사도 나옴."
   ]
  },
  {
   "cell_type": "markdown",
   "metadata": {},
   "source": [
    "### 9. 유사도 그래프 "
   ]
  },
  {
   "cell_type": "code",
   "execution_count": 55,
   "metadata": {},
   "outputs": [
    {
     "data": {
      "image/png": "[encoded data removed]",
      "text/plain": [
       "<Figure size 1008x720 with 1 Axes>"
      ]
     },
     "metadata": {
      "needs_background": "light"
     },
     "output_type": "display_data"
    }
   ],
   "source": [
    "words = []\n",
    "\n",
    "# 그래프\n",
    "for i in range(5):\n",
    "    words += sorted_petition.iloc[i].iloc[2] + new_final_token # 기존 글 5개 토큰 + 새로운 글 5개 토큰\n",
    "    \n",
    "pca = PCA(n_components=2)\n",
    "xys = pca.fit_transform([ko_model.wv.word_vec(w) for w in words])\n",
    "xs = xys[:,0]\n",
    "ys = xys[:,1]\n",
    "\n",
    "mpl.rcParams['axes.unicode_minus'] = False # 마이너스 부호 깨짐 방지\n",
    "plt.rc('font', family = 'NanumGothic')   #나눔고딕을 기본 글꼴로 설정\n",
    "plt.figure(figsize=(14, 10), )\n",
    "plt.scatter(xs, ys, marker='o')\n",
    "for i, v in enumerate(words):\n",
    "    plt.annotate(v, xy=(xs[i], ys[i]))"
   ]
  },
  {
   "cell_type": "markdown",
   "metadata": {},
   "source": [
    "### 10. 새로운 청원글 & 기존 청원글 상위토큰(단어) 1:1 유사도 검사"
   ]
  },
  {
   "cell_type": "code",
   "execution_count": 104,
   "metadata": {
    "scrolled": false
   },
   "outputs": [],
   "source": [
    "# 새로운 청원글의 상위토큰: new_final_token\n",
    "# 기존 청원글 5개의 상위 토큰: sorted_petition['상위토큰']\n",
    "prediction = 0\n",
    "similarity_rate = 0\n",
    "similarity_rate_hap = 0\n",
    "numerator = 0\n",
    "denominator = 0\n",
    "weighted_petition = []\n",
    "fasttext_hap = []"
   ]
  },
  {
   "cell_type": "markdown",
   "metadata": {},
   "source": [
    "# <유사도 기반 청원수 예측>"
   ]
  },
  {
   "cell_type": "code",
   "execution_count": 105,
   "metadata": {
    "scrolled": true
   },
   "outputs": [
    {
     "name": "stdout",
     "output_type": "stream",
     "text": [
      "청원글             인천국제공항공사 비정규직의 무조건적인 정규직 전환. 이게 평등입니까?\n",
      "청원수                                               9455\n",
      "상위토큰             [인천국제공항공사, 비정규직, 무조건, 정규직, 전환, 평등, 입]\n",
      "jaccard 유사도                                        0.4\n",
      "fasttext 유사도                                       NaN\n",
      "Name: 29275, dtype: object\n",
      "----------------------------------------\n",
      "1.0\n",
      "0.27567887\n",
      "-0.0110267885\n",
      "0.33857322\n",
      "0.08889924\n",
      "0.07922751\n",
      "0.17473637\n",
      "새로운 청원글의  1 번째 토큰과 기존 청원글 토큰 간 가장 높은 유사도 1.0\n",
      "----------------------------------------\n",
      "0.27567887\n",
      "1.0\n",
      "0.06433594\n",
      "0.6339157\n",
      "0.20713176\n",
      "0.25325286\n",
      "0.17303942\n",
      "새로운 청원글의  2 번째 토큰과 기존 청원글 토큰 간 가장 높은 유사도 1.0\n",
      "----------------------------------------\n",
      "0.33857322\n",
      "0.6339157\n",
      "0.0759692\n",
      "1.0\n",
      "0.3576984\n",
      "0.17000142\n",
      "0.122464605\n",
      "새로운 청원글의  3 번째 토큰과 기존 청원글 토큰 간 가장 높은 유사도 1.0\n",
      "----------------------------------------\n",
      "0.22847939\n",
      "0.25542635\n",
      "0.039671876\n",
      "0.40941018\n",
      "0.32553723\n",
      "0.24599645\n",
      "0.22995438\n",
      "새로운 청원글의  4 번째 토큰과 기존 청원글 토큰 간 가장 높은 유사도 0.40941018\n",
      "----------------------------------------\n",
      "0.06399121\n",
      "0.31126127\n",
      "0.028733442\n",
      "0.24452081\n",
      "0.20173836\n",
      "0.27212328\n",
      "0.1454361\n",
      "새로운 청원글의  5 번째 토큰과 기존 청원글 토큰 간 가장 높은 유사도 0.31126127\n",
      "----------------------------------------\n",
      "0.08889924\n",
      "0.20713176\n",
      "0.04802759\n",
      "0.3576984\n",
      "1.0\n",
      "0.24103315\n",
      "0.19046569\n",
      "새로운 청원글의  6 번째 토큰과 기존 청원글 토큰 간 가장 높은 유사도 1.0\n",
      "----------------------------------------\n",
      "0.14629397\n",
      "0.16898257\n",
      "0.107260145\n",
      "0.10977722\n",
      "0.12083385\n",
      "0.1404672\n",
      "0.18040292\n",
      "새로운 청원글의  7 번째 토큰과 기존 청원글 토큰 간 가장 높은 유사도 0.18040292\n",
      "----------------------------------------\n",
      "하나의 청원글 당 7개 유사도 다 합한 similarity_rate_hap 4.90107436478138\n",
      "새로운 청원글과 기존 1 번째 청원글의 weighted 유사도: 0.7001534806830543\n",
      "================================================================================\n",
      "청원글                             정규직 전환 진실을 묻습니다.\n",
      "청원수                                          939\n",
      "상위토큰            [정규직, 전환, 진실, 정규직, 전환, 보안, 비정규직]\n",
      "jaccard 유사도                             0.333333\n",
      "fasttext 유사도                            0.700153\n",
      "Name: 29276, dtype: object\n",
      "----------------------------------------\n",
      "0.33857322\n",
      "0.08889924\n",
      "0.03396646\n",
      "0.33857322\n",
      "0.08889924\n",
      "0.13427627\n",
      "0.27567887\n",
      "새로운 청원글의  1 번째 토큰과 기존 청원글 토큰 간 가장 높은 유사도 0.33857322\n",
      "----------------------------------------\n",
      "0.6339157\n",
      "0.20713176\n",
      "0.14364094\n",
      "0.6339157\n",
      "0.20713176\n",
      "0.20213407\n",
      "1.0\n",
      "새로운 청원글의  2 번째 토큰과 기존 청원글 토큰 간 가장 높은 유사도 1.0\n",
      "----------------------------------------\n",
      "1.0\n",
      "0.3576984\n",
      "0.11140557\n",
      "1.0\n",
      "0.3576984\n",
      "0.17874295\n",
      "0.6339157\n",
      "새로운 청원글의  3 번째 토큰과 기존 청원글 토큰 간 가장 높은 유사도 1.0\n",
      "----------------------------------------\n",
      "0.40941018\n",
      "0.32553723\n",
      "0.21194555\n",
      "0.40941018\n",
      "0.32553723\n",
      "0.3798343\n",
      "0.25542635\n",
      "새로운 청원글의  4 번째 토큰과 기존 청원글 토큰 간 가장 높은 유사도 0.40941018\n",
      "----------------------------------------\n",
      "0.24452081\n",
      "0.20173836\n",
      "0.1801866\n",
      "0.24452081\n",
      "0.20173836\n",
      "0.23996767\n",
      "0.31126127\n",
      "새로운 청원글의  5 번째 토큰과 기존 청원글 토큰 간 가장 높은 유사도 0.31126127\n",
      "----------------------------------------\n",
      "0.3576984\n",
      "1.0\n",
      "0.21087204\n",
      "0.3576984\n",
      "1.0\n",
      "0.21365388\n",
      "0.20713176\n",
      "새로운 청원글의  6 번째 토큰과 기존 청원글 토큰 간 가장 높은 유사도 1.0\n",
      "----------------------------------------\n",
      "0.10977722\n",
      "0.12083385\n",
      "0.1135163\n",
      "0.10977722\n",
      "0.12083385\n",
      "0.1988407\n",
      "0.16898257\n",
      "새로운 청원글의  7 번째 토큰과 기존 청원글 토큰 간 가장 높은 유사도 0.1988407\n",
      "----------------------------------------\n",
      "하나의 청원글 당 7개 유사도 다 합한 similarity_rate_hap 4.2580853551626205\n",
      "새로운 청원글과 기존 2 번째 청원글의 weighted 유사도: 0.6082979078803744\n",
      "================================================================================\n",
      "청원글                 비정규직 정규직 전환 제도 누구를위한 제도인가?\n",
      "청원수                                        336\n",
      "상위토큰            [비정규직, 정규직, 전환, 제도, 누구, 위, 제도]\n",
      "jaccard 유사도                                0.3\n",
      "fasttext 유사도                          0.608298\n",
      "Name: 5573, dtype: object\n",
      "----------------------------------------\n",
      "0.27567887\n",
      "0.33857322\n",
      "0.08889924\n",
      "0.08175978\n",
      "0.14513443\n",
      "0.0922832\n",
      "0.08175978\n",
      "새로운 청원글의  1 번째 토큰과 기존 청원글 토큰 간 가장 높은 유사도 0.33857322\n",
      "----------------------------------------\n",
      "1.0\n",
      "0.6339157\n",
      "0.20713176\n",
      "0.19333002\n",
      "0.120751284\n",
      "0.0752502\n",
      "0.19333002\n",
      "새로운 청원글의  2 번째 토큰과 기존 청원글 토큰 간 가장 높은 유사도 1.0\n",
      "----------------------------------------\n",
      "0.6339157\n",
      "1.0\n",
      "0.3576984\n",
      "0.11698945\n",
      "0.13021268\n",
      "0.034349516\n",
      "0.11698945\n",
      "새로운 청원글의  3 번째 토큰과 기존 청원글 토큰 간 가장 높은 유사도 1.0\n",
      "----------------------------------------\n",
      "0.25542635\n",
      "0.40941018\n",
      "0.32553723\n",
      "0.36167282\n",
      "0.17600277\n",
      "0.1624951\n",
      "0.36167282\n",
      "새로운 청원글의  4 번째 토큰과 기존 청원글 토큰 간 가장 높은 유사도 0.40941018\n",
      "----------------------------------------\n",
      "0.31126127\n",
      "0.24452081\n",
      "0.20173836\n",
      "0.19720054\n",
      "0.19376712\n",
      "0.07675662\n",
      "0.19720054\n",
      "새로운 청원글의  5 번째 토큰과 기존 청원글 토큰 간 가장 높은 유사도 0.31126127\n",
      "----------------------------------------\n",
      "0.20713176\n",
      "0.3576984\n",
      "1.0\n",
      "0.25461218\n",
      "0.06010818\n",
      "0.077386215\n",
      "0.25461218\n",
      "새로운 청원글의  6 번째 토큰과 기존 청원글 토큰 간 가장 높은 유사도 1.0\n",
      "----------------------------------------\n",
      "0.16898257\n",
      "0.10977722\n",
      "0.12083385\n",
      "0.2173275\n",
      "0.13896514\n",
      "0.07939032\n",
      "0.2173275\n",
      "새로운 청원글의  7 번째 토큰과 기존 청원글 토큰 간 가장 높은 유사도 0.2173275\n",
      "----------------------------------------\n",
      "하나의 청원글 당 7개 유사도 다 합한 similarity_rate_hap 4.276572167873383\n",
      "새로운 청원글과 기존 3 번째 청원글의 weighted 유사도: 0.6109388811247689\n",
      "================================================================================\n",
      "청원글                                   정규직 전환 반대\n",
      "청원수                                           3\n",
      "상위토큰            [정규직, 전환, 반대, 비정규직, 정규직, 월급, 삶]\n",
      "jaccard 유사도                                 0.3\n",
      "fasttext 유사도                           0.610939\n",
      "Name: 26212, dtype: object\n",
      "----------------------------------------\n",
      "0.33857322\n",
      "0.08889924\n",
      "0.010424585\n",
      "0.27567887\n",
      "0.33857322\n",
      "0.07876043\n",
      "0.07451804\n",
      "새로운 청원글의  1 번째 토큰과 기존 청원글 토큰 간 가장 높은 유사도 0.33857322\n",
      "----------------------------------------\n",
      "0.6339157\n",
      "0.20713176\n",
      "0.17246225\n",
      "1.0\n",
      "0.6339157\n",
      "0.29349056\n",
      "0.16249013\n",
      "새로운 청원글의  2 번째 토큰과 기존 청원글 토큰 간 가장 높은 유사도 1.0\n",
      "----------------------------------------\n",
      "1.0\n",
      "0.3576984\n",
      "0.10358362\n",
      "0.6339157\n",
      "1.0\n",
      "0.35374558\n",
      "0.06294647\n",
      "새로운 청원글의  3 번째 토큰과 기존 청원글 토큰 간 가장 높은 유사도 1.0\n",
      "----------------------------------------\n",
      "0.40941018\n",
      "0.32553723\n",
      "0.16570026\n",
      "0.25542635\n",
      "0.40941018\n",
      "0.2568572\n",
      "0.17219523\n",
      "새로운 청원글의  4 번째 토큰과 기존 청원글 토큰 간 가장 높은 유사도 0.40941018\n",
      "----------------------------------------\n",
      "0.24452081"
     ]
    },
    {
     "name": "stderr",
     "output_type": "stream",
     "text": [
      "C:\\Users\\go990\\anaconda3\\lib\\site-packages\\ipykernel_launcher.py:25: SettingWithCopyWarning: \n",
      "A value is trying to be set on a copy of a slice from a DataFrame.\n",
      "Try using .loc[row_indexer,col_indexer] = value instead\n",
      "\n",
      "See the caveats in the documentation: https://pandas.pydata.org/pandas-docs/stable/user_guide/indexing.html#returning-a-view-versus-a-copy\n"
     ]
    },
    {
     "name": "stdout",
     "output_type": "stream",
     "text": [
      "\n",
      "0.20173836\n",
      "0.21307021\n",
      "0.31126127\n",
      "0.24452081\n",
      "0.16652149\n",
      "0.25322288\n",
      "새로운 청원글의  5 번째 토큰과 기존 청원글 토큰 간 가장 높은 유사도 0.31126127\n",
      "----------------------------------------\n",
      "0.3576984\n",
      "1.0\n",
      "0.293293\n",
      "0.20713176\n",
      "0.3576984\n",
      "0.13892521\n",
      "0.16632058\n",
      "새로운 청원글의  6 번째 토큰과 기존 청원글 토큰 간 가장 높은 유사도 1.0\n",
      "----------------------------------------\n",
      "0.10977722\n",
      "0.12083385\n",
      "0.19122781\n",
      "0.16898257\n",
      "0.10977722\n",
      "0.10946387\n",
      "0.12368882\n",
      "새로운 청원글의  7 번째 토큰과 기존 청원글 토큰 간 가장 높은 유사도 0.19122781\n",
      "----------------------------------------\n",
      "하나의 청원글 당 7개 유사도 다 합한 similarity_rate_hap 4.250472471117973\n",
      "새로운 청원글과 기존 4 번째 청원글의 weighted 유사도: 0.6072103530168533\n",
      "================================================================================\n",
      "청원글                          인천공항 비정규직에서 정규직전환 뉴스보도\n",
      "청원수                                              11\n",
      "상위토큰            [인천공항, 비정규직, 정규직, 전환, 뉴스, 보도, 인천공항]\n",
      "jaccard 유사도                                     0.3\n",
      "fasttext 유사도                                0.60721\n",
      "Name: 23601, dtype: object\n",
      "----------------------------------------\n",
      "0.5475247\n",
      "0.27567887\n",
      "0.33857322\n",
      "0.08889924\n",
      "0.11694144\n",
      "0.10946059\n",
      "0.5475247\n",
      "새로운 청원글의  1 번째 토큰과 기존 청원글 토큰 간 가장 높은 유사도 0.5475247\n",
      "----------------------------------------\n",
      "0.30391338\n",
      "1.0\n",
      "0.6339157\n",
      "0.20713176\n",
      "0.11552286\n",
      "0.09704148\n",
      "0.30391338\n",
      "새로운 청원글의  2 번째 토큰과 기존 청원글 토큰 간 가장 높은 유사도 1.0\n",
      "----------------------------------------\n",
      "0.29935825\n",
      "0.6339157\n",
      "1.0\n",
      "0.3576984\n",
      "0.10732409\n",
      "0.035410415\n",
      "0.29935825\n",
      "새로운 청원글의  3 번째 토큰과 기존 청원글 토큰 간 가장 높은 유사도 1.0\n",
      "----------------------------------------\n",
      "0.13589789\n",
      "0.25542635\n",
      "0.40941018\n",
      "0.32553723\n",
      "0.32094046\n",
      "0.28108737\n",
      "0.13589789\n",
      "새로운 청원글의  4 번째 토큰과 기존 청원글 토큰 간 가장 높은 유사도 0.40941018\n",
      "----------------------------------------\n",
      "0.028665433\n",
      "0.31126127\n",
      "0.24452081\n",
      "0.20173836\n",
      "0.2063548\n",
      "0.12774593\n",
      "0.028665433\n",
      "새로운 청원글의  5 번째 토큰과 기존 청원글 토큰 간 가장 높은 유사도 0.31126127\n",
      "----------------------------------------\n",
      "0.058782965\n",
      "0.20713176\n",
      "0.3576984\n",
      "1.0\n",
      "0.21019974\n",
      "0.16271038\n",
      "0.058782965\n",
      "새로운 청원글의  6 번째 토큰과 기존 청원글 토큰 간 가장 높은 유사도 1.0\n",
      "----------------------------------------\n",
      "0.1509084\n",
      "0.16898257\n",
      "0.10977722\n",
      "0.12083385\n",
      "0.1394904\n",
      "0.07233527\n",
      "0.1509084\n",
      "새로운 청원글의  7 번째 토큰과 기존 청원글 토큰 간 가장 높은 유사도 0.16898257\n",
      "----------------------------------------\n",
      "하나의 청원글 당 7개 유사도 다 합한 similarity_rate_hap 4.437178701162338\n",
      "새로운 청원글과 기존 5 번째 청원글의 weighted 유사도: 0.6338826715946198\n",
      "================================================================================\n"
     ]
    }
   ],
   "source": [
    "for i in range(5):   # 자카드 유사도로 뽑은 5개 글\n",
    "    similarity_rate_hap = 0\n",
    "    print(sorted_petition.iloc[i])\n",
    "    print('-'*40)\n",
    "    for t in range(7): # 새로운 청원글의 7개 토큰\n",
    "        rates = [] # 새로운 청원글의 각 토큰 별 기존 청원글 토큰의 1:1 유사도 담긴 리스트\n",
    "        total_rates = [] # 최종 5개 유사도 담긴 리스트\n",
    "        max_number = 0\n",
    "        for k in range(7): # 기존 청원글의 7개 토큰\n",
    "            # 새로운 청원글의 각 토큰과 기존 청원글 토큰의 1:1 유사도\n",
    "            similarity_rate = ko_model.wv.similarity(new_final_token[t], sorted_petition.iloc[i].iloc[2][k])\n",
    "            print(similarity_rate)\n",
    "            rates.append(similarity_rate) # 리스트에 첫번째 토큰(new)과 7개 토큰(old-ith-kth token)의 유사도 저장\n",
    "\n",
    "        for a in range(len(rates)):\n",
    "            if max_number <= rates[a]:\n",
    "                max_number = rates[a]\n",
    "        max_similarity_rate = max_number  # 가장 높은 유사도가 최종 유사도(old-ith)가 됨.\n",
    "        print('새로운 청원글의 ', t+1, '번째 토큰과 기존 청원글 토큰 간 가장 높은 유사도', max_similarity_rate)\n",
    "        print('-'*40)\n",
    "        total_rates.append(max_similarity_rate) # 최종 유사도(old-ith)를 리스트(t개가 들어갈것)에 저장\n",
    "        similarity_rate_hap += max_similarity_rate  # 하나의 청원글 당 7개 유사도 다 합하기\n",
    "    print('하나의 청원글 당 7개 유사도 다 합한 similarity_rate_hap', similarity_rate_hap)\n",
    "    similarity_rate_hap = similarity_rate_hap/7\n",
    "    sorted_petition['fasttext 유사도'] = similarity_rate_hap\n",
    "#     sorted_petition.loc[i, 'fasttext 유사도'] = similarity_rate_hap\n",
    "    print('새로운 청원글과 기존', i+1, '번째 청원글의 weighted 유사도:', similarity_rate_hap)\n",
    "    fasttext_hap.append(similarity_rate_hap)\n",
    "    weighted_petition.append(sorted_petition.iloc[i].iloc[1]*similarity_rate_hap) # 청원수 * fatetext유사도\n",
    "    print(\"=\"*80)\n"
   ]
  },
  {
   "cell_type": "code",
   "execution_count": 106,
   "metadata": {
    "scrolled": false
   },
   "outputs": [
    {
     "data": {
      "text/html": [
       "<div>\n",
       "<style scoped>\n",
       "    .dataframe tbody tr th:only-of-type {\n",
       "        vertical-align: middle;\n",
       "    }\n",
       "\n",
       "    .dataframe tbody tr th {\n",
       "        vertical-align: top;\n",
       "    }\n",
       "\n",
       "    .dataframe thead th {\n",
       "        text-align: right;\n",
       "    }\n",
       "</style>\n",
       "<table border=\"1\" class=\"dataframe\">\n",
       "  <thead>\n",
       "    <tr style=\"text-align: right;\">\n",
       "      <th></th>\n",
       "      <th>청원글</th>\n",
       "      <th>청원수</th>\n",
       "      <th>상위토큰</th>\n",
       "      <th>jaccard 유사도</th>\n",
       "      <th>fasttext 유사도</th>\n",
       "    </tr>\n",
       "  </thead>\n",
       "  <tbody>\n",
       "    <tr>\n",
       "      <th>29275</th>\n",
       "      <td>인천국제공항공사 비정규직의 무조건적인 정규직 전환. 이게 평등입니까?</td>\n",
       "      <td>9455</td>\n",
       "      <td>[인천국제공항공사, 비정규직, 무조건, 정규직, 전환, 평등, 입]</td>\n",
       "      <td>0.400000</td>\n",
       "      <td>0.633883</td>\n",
       "    </tr>\n",
       "    <tr>\n",
       "      <th>29276</th>\n",
       "      <td>정규직 전환 진실을 묻습니다.</td>\n",
       "      <td>939</td>\n",
       "      <td>[정규직, 전환, 진실, 정규직, 전환, 보안, 비정규직]</td>\n",
       "      <td>0.333333</td>\n",
       "      <td>0.633883</td>\n",
       "    </tr>\n",
       "    <tr>\n",
       "      <th>5573</th>\n",
       "      <td>비정규직 정규직 전환 제도 누구를위한 제도인가?</td>\n",
       "      <td>336</td>\n",
       "      <td>[비정규직, 정규직, 전환, 제도, 누구, 위, 제도]</td>\n",
       "      <td>0.300000</td>\n",
       "      <td>0.633883</td>\n",
       "    </tr>\n",
       "    <tr>\n",
       "      <th>26212</th>\n",
       "      <td>정규직 전환 반대</td>\n",
       "      <td>3</td>\n",
       "      <td>[정규직, 전환, 반대, 비정규직, 정규직, 월급, 삶]</td>\n",
       "      <td>0.300000</td>\n",
       "      <td>0.633883</td>\n",
       "    </tr>\n",
       "    <tr>\n",
       "      <th>23601</th>\n",
       "      <td>인천공항 비정규직에서 정규직전환 뉴스보도</td>\n",
       "      <td>11</td>\n",
       "      <td>[인천공항, 비정규직, 정규직, 전환, 뉴스, 보도, 인천공항]</td>\n",
       "      <td>0.300000</td>\n",
       "      <td>0.633883</td>\n",
       "    </tr>\n",
       "  </tbody>\n",
       "</table>\n",
       "</div>"
      ],
      "text/plain": [
       "                                          청원글   청원수  \\\n",
       "29275  인천국제공항공사 비정규직의 무조건적인 정규직 전환. 이게 평등입니까?  9455   \n",
       "29276                        정규직 전환 진실을 묻습니다.   939   \n",
       "5573               비정규직 정규직 전환 제도 누구를위한 제도인가?   336   \n",
       "26212                               정규직 전환 반대     3   \n",
       "23601                  인천공항 비정규직에서 정규직전환 뉴스보도    11   \n",
       "\n",
       "                                        상위토큰  jaccard 유사도  fasttext 유사도  \n",
       "29275  [인천국제공항공사, 비정규직, 무조건, 정규직, 전환, 평등, 입]     0.400000      0.633883  \n",
       "29276       [정규직, 전환, 진실, 정규직, 전환, 보안, 비정규직]     0.333333      0.633883  \n",
       "5573          [비정규직, 정규직, 전환, 제도, 누구, 위, 제도]     0.300000      0.633883  \n",
       "26212        [정규직, 전환, 반대, 비정규직, 정규직, 월급, 삶]     0.300000      0.633883  \n",
       "23601    [인천공항, 비정규직, 정규직, 전환, 뉴스, 보도, 인천공항]     0.300000      0.633883  "
      ]
     },
     "execution_count": 106,
     "metadata": {},
     "output_type": "execute_result"
    }
   ],
   "source": [
    "sorted_petition"
   ]
  },
  {
   "cell_type": "code",
   "execution_count": 100,
   "metadata": {},
   "outputs": [
    {
     "name": "stdout",
     "output_type": "stream",
     "text": [
      "예상 청원수:  7405.2126998624635\n"
     ]
    }
   ],
   "source": [
    "petition_prediction = sum(weighted_petition)\n",
    "\n",
    "print(\"예상 청원수: \", petition_prediction)"
   ]
  },
  {
   "cell_type": "code",
   "execution_count": null,
   "metadata": {},
   "outputs": [],
   "source": []
  }
 ],
 "metadata": {
  "kernelspec": {
   "display_name": "Python 3",
   "language": "python",
   "name": "python3"
  },
  "language_info": {
   "codemirror_mode": {
    "name": "ipython",
    "version": 3
   },
   "file_extension": ".py",
   "mimetype": "text/x-python",
   "name": "python",
   "nbconvert_exporter": "python",
   "pygments_lexer": "ipython3",
   "version": "3.7.6"
  }
 },
 "nbformat": 4,
 "nbformat_minor": 4
}
